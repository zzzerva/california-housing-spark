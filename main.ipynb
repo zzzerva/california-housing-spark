{
  "nbformat": 4,
  "nbformat_minor": 0,
  "metadata": {
    "colab": {
      "provenance": []
    },
    "kernelspec": {
      "name": "python3",
      "display_name": "Python 3"
    },
    "language_info": {
      "name": "python"
    }
  },
  "cells": [
    {
      "cell_type": "markdown",
      "source": [
        "**Amaç ve Kapsam**\n",
        "\n",
        "Tanımlanan veri seti üzerinde konut fiyatlarının tahminlenmesi için Spark ML kütüphanesi kullanılarak\n",
        "PySpark ile bir regresyon modeli oluşturulacaktır.\n"
      ],
      "metadata": {
        "id": "LWQv1afyRJu6"
      }
    },
    {
      "cell_type": "markdown",
      "source": [
        "İlk olarak gerekli kütüphaneler import edilip SparkSession oluşturulur."
      ],
      "metadata": {
        "id": "YZlka9o7VsNw"
      }
    },
    {
      "cell_type": "code",
      "execution_count": null,
      "metadata": {
        "id": "cna9XbknPedR"
      },
      "outputs": [],
      "source": [
        "from pyspark.sql import SparkSession\n",
        "from pyspark.ml.feature import VectorAssembler\n",
        "from pyspark.ml.regression import LinearRegression, GBTRegressor\n",
        "from pyspark.ml.evaluation import RegressionEvaluator\n",
        "from pyspark.sql.functions import count, when, isnan, col\n",
        "import pandas as pd\n",
        "\n",
        "import matplotlib.pyplot as plt\n",
        "import seaborn as sns"
      ]
    },
    {
      "cell_type": "code",
      "source": [
        "spark = SparkSession.builder.appName(\"HousingPricePrediction\").getOrCreate()"
      ],
      "metadata": {
        "id": "mV9wyxKgPjAe"
      },
      "execution_count": null,
      "outputs": []
    },
    {
      "cell_type": "markdown",
      "source": [
        "Daha sonra Kaggle'dan indirilen dataseti Colab'e yüklenir ve ham veriyi incelenir."
      ],
      "metadata": {
        "id": "TxaeleYgWLkp"
      }
    },
    {
      "cell_type": "code",
      "source": [
        "file_path = \"/content/california_housing.csv\"\n",
        "df = spark.read.csv(file_path, header=True, inferSchema=True)\n",
        "\n",
        "df.show(5)"
      ],
      "metadata": {
        "colab": {
          "base_uri": "https://localhost:8080/"
        },
        "id": "BcQCyai8PljT",
        "outputId": "0a74dd8e-81b1-4a90-8862-da73918b732a"
      },
      "execution_count": null,
      "outputs": [
        {
          "output_type": "stream",
          "name": "stdout",
          "text": [
            "+---------+--------+------------------+-----------+--------------+----------+----------+-------------+------------------+---------------+\n",
            "|longitude|latitude|housing_median_age|total_rooms|total_bedrooms|population|households|median_income|median_house_value|ocean_proximity|\n",
            "+---------+--------+------------------+-----------+--------------+----------+----------+-------------+------------------+---------------+\n",
            "|  -122.23|   37.88|              41.0|      880.0|         129.0|     322.0|     126.0|       8.3252|          452600.0|       NEAR BAY|\n",
            "|  -122.22|   37.86|              21.0|     7099.0|        1106.0|    2401.0|    1138.0|       8.3014|          358500.0|       NEAR BAY|\n",
            "|  -122.24|   37.85|              52.0|     1467.0|         190.0|     496.0|     177.0|       7.2574|          352100.0|       NEAR BAY|\n",
            "|  -122.25|   37.85|              52.0|     1274.0|         235.0|     558.0|     219.0|       5.6431|          341300.0|       NEAR BAY|\n",
            "|  -122.25|   37.85|              52.0|     1627.0|         280.0|     565.0|     259.0|       3.8462|          342200.0|       NEAR BAY|\n",
            "+---------+--------+------------------+-----------+--------------+----------+----------+-------------+------------------+---------------+\n",
            "only showing top 5 rows\n",
            "\n"
          ]
        }
      ]
    },
    {
      "cell_type": "markdown",
      "source": [
        "Veri setindeki sütunlar ve veri tipleri printSchema() fonksiyonu ile görüntülenir.\n",
        "\n",
        "İstatistiksel özet bilgileri describe().show() ile görüntülenir.\n",
        "\n",
        "Son olarak select(\"median_house_value\").summary().show() fonksiyonu ile hedef değişkenin dağılımı görüntülenir."
      ],
      "metadata": {
        "id": "SJob3a7SXQp7"
      }
    },
    {
      "cell_type": "code",
      "source": [
        "df.printSchema()"
      ],
      "metadata": {
        "colab": {
          "base_uri": "https://localhost:8080/"
        },
        "id": "WGVo6eIpXQFm",
        "outputId": "2e42b612-c1d2-4daa-d974-4636044d355e"
      },
      "execution_count": null,
      "outputs": [
        {
          "output_type": "stream",
          "name": "stdout",
          "text": [
            "root\n",
            " |-- longitude: double (nullable = true)\n",
            " |-- latitude: double (nullable = true)\n",
            " |-- housing_median_age: double (nullable = true)\n",
            " |-- total_rooms: double (nullable = true)\n",
            " |-- total_bedrooms: double (nullable = true)\n",
            " |-- population: double (nullable = true)\n",
            " |-- households: double (nullable = true)\n",
            " |-- median_income: double (nullable = true)\n",
            " |-- median_house_value: double (nullable = true)\n",
            " |-- ocean_proximity: string (nullable = true)\n",
            "\n"
          ]
        }
      ]
    },
    {
      "cell_type": "code",
      "source": [
        "df.describe().show()"
      ],
      "metadata": {
        "colab": {
          "base_uri": "https://localhost:8080/"
        },
        "id": "q2jHG7LNPoLp",
        "outputId": "dc1a294e-ff6b-473e-93f8-2a6a9f199fb9"
      },
      "execution_count": null,
      "outputs": [
        {
          "output_type": "stream",
          "name": "stdout",
          "text": [
            "+-------+-------------------+-----------------+------------------+------------------+------------------+------------------+-----------------+------------------+------------------+---------------+\n",
            "|summary|          longitude|         latitude|housing_median_age|       total_rooms|    total_bedrooms|        population|       households|     median_income|median_house_value|ocean_proximity|\n",
            "+-------+-------------------+-----------------+------------------+------------------+------------------+------------------+-----------------+------------------+------------------+---------------+\n",
            "|  count|              20640|            20640|             20640|             20640|             20433|             20640|            20640|             20640|             20640|          20640|\n",
            "|   mean|-119.56970445736148| 35.6318614341087|28.639486434108527|2635.7630813953488| 537.8705525375618|1425.4767441860465|499.5396802325581|3.8706710029070246|206855.81690891474|           NULL|\n",
            "| stddev|  2.003531723502584|2.135952397457101| 12.58555761211163|2181.6152515827944|421.38507007403115|  1132.46212176534|382.3297528316098| 1.899821717945263|115395.61587441359|           NULL|\n",
            "|    min|            -124.35|            32.54|               1.0|               2.0|               1.0|               3.0|              1.0|            0.4999|           14999.0|      <1H OCEAN|\n",
            "|    max|            -114.31|            41.95|              52.0|           39320.0|            6445.0|           35682.0|           6082.0|           15.0001|          500001.0|     NEAR OCEAN|\n",
            "+-------+-------------------+-----------------+------------------+------------------+------------------+------------------+-----------------+------------------+------------------+---------------+\n",
            "\n"
          ]
        }
      ]
    },
    {
      "cell_type": "code",
      "source": [
        "df.select(\"median_house_value\").summary().show()"
      ],
      "metadata": {
        "colab": {
          "base_uri": "https://localhost:8080/"
        },
        "id": "CVVm_Ia4XoVT",
        "outputId": "3c3755c3-0c6e-491a-cb02-c30b9a1df894"
      },
      "execution_count": null,
      "outputs": [
        {
          "output_type": "stream",
          "name": "stdout",
          "text": [
            "+-------+------------------+\n",
            "|summary|median_house_value|\n",
            "+-------+------------------+\n",
            "|  count|             20640|\n",
            "|   mean|206855.81690891474|\n",
            "| stddev|115395.61587441359|\n",
            "|    min|           14999.0|\n",
            "|    25%|          119600.0|\n",
            "|    50%|          179700.0|\n",
            "|    75%|          264700.0|\n",
            "|    max|          500001.0|\n",
            "+-------+------------------+\n",
            "\n"
          ]
        }
      ]
    },
    {
      "cell_type": "markdown",
      "source": [
        "Eksik veriler, modelin performansını olumsuz etkileyebilir.\n",
        "\n",
        "Bu nedenle, eksik veriler tespit edilmiş ve temizlenmiştir"
      ],
      "metadata": {
        "id": "ywXBQ05OX_2s"
      }
    },
    {
      "cell_type": "code",
      "source": [
        "df.select([count(when(isnan(c) | col(c).isNull(), c)).alias(c) for c in df.columns]).show()\n",
        "\n",
        "df = df.na.drop()"
      ],
      "metadata": {
        "colab": {
          "base_uri": "https://localhost:8080/"
        },
        "id": "CrOkriCdPqr2",
        "outputId": "2cf59efe-f897-4dd3-e1cf-7c1e781b38bd"
      },
      "execution_count": null,
      "outputs": [
        {
          "output_type": "stream",
          "name": "stdout",
          "text": [
            "+---------+--------+------------------+-----------+--------------+----------+----------+-------------+------------------+---------------+\n",
            "|longitude|latitude|housing_median_age|total_rooms|total_bedrooms|population|households|median_income|median_house_value|ocean_proximity|\n",
            "+---------+--------+------------------+-----------+--------------+----------+----------+-------------+------------------+---------------+\n",
            "|        0|       0|                 0|          0|           207|         0|         0|            0|                 0|              0|\n",
            "+---------+--------+------------------+-----------+--------------+----------+----------+-------------+------------------+---------------+\n",
            "\n"
          ]
        }
      ]
    },
    {
      "cell_type": "markdown",
      "source": [
        "Modelde kullanılacak bağımsız değişkenler belirlenir ve makine öğrenmesi modellerinde girdileri tek bir vektör haline getirmek için VectorAssembler kullanılır."
      ],
      "metadata": {
        "id": "CIr_FPIAYLQx"
      }
    },
    {
      "cell_type": "code",
      "source": [
        "feature_columns = ['longitude', 'latitude', 'housing_median_age', 'total_rooms', 'total_bedrooms', 'population', 'households', 'median_income']\n",
        "\n",
        "assembler = VectorAssembler(inputCols=feature_columns, outputCol=\"features\")\n",
        "df = assembler.transform(df)\n",
        "\n",
        "df.select(\"features\", \"median_house_value\").show(5)"
      ],
      "metadata": {
        "colab": {
          "base_uri": "https://localhost:8080/"
        },
        "id": "0ZjKq6jdPukt",
        "outputId": "fc40c23a-4673-4f5e-a043-b8df0a3568eb"
      },
      "execution_count": null,
      "outputs": [
        {
          "output_type": "stream",
          "name": "stdout",
          "text": [
            "+--------------------+------------------+\n",
            "|            features|median_house_value|\n",
            "+--------------------+------------------+\n",
            "|[-122.23,37.88,41...|          452600.0|\n",
            "|[-122.22,37.86,21...|          358500.0|\n",
            "|[-122.24,37.85,52...|          352100.0|\n",
            "|[-122.25,37.85,52...|          341300.0|\n",
            "|[-122.25,37.85,52...|          342200.0|\n",
            "+--------------------+------------------+\n",
            "only showing top 5 rows\n",
            "\n"
          ]
        }
      ]
    },
    {
      "cell_type": "markdown",
      "source": [
        "Veri seti, rastgele olarak %80 eğitim ve %20 test olacak şekilde ayrılır."
      ],
      "metadata": {
        "id": "cizJWCWxYoNV"
      }
    },
    {
      "cell_type": "code",
      "source": [
        "train_data, test_data = df.randomSplit([0.8, 0.2], seed=42)"
      ],
      "metadata": {
        "id": "xYcuwEKZPxmX"
      },
      "execution_count": null,
      "outputs": []
    },
    {
      "cell_type": "markdown",
      "source": [
        "Linear Regression, bağımlı ve bağımsız değişkenler arasındaki doğrusal ilişkiyi modellemek için kullanılan basit ve yorumlanabilir bir regresyon modelidir.\n",
        "\n",
        "Bu model, özellikle veri setindeki ilişkilerin doğrusal olduğu durumlarda etkili sonuçlar verir."
      ],
      "metadata": {
        "id": "XCATBn6pY5c7"
      }
    },
    {
      "cell_type": "code",
      "source": [
        "lr = LinearRegression(featuresCol=\"features\", labelCol=\"median_house_value\")\n",
        "lr_model = lr.fit(train_data)\n",
        "lr_train_predictions = lr_model.transform(train_data)\n",
        "lr_test_predictions = lr_model.transform(test_data)"
      ],
      "metadata": {
        "id": "X64EqYtQP4mS"
      },
      "execution_count": null,
      "outputs": []
    },
    {
      "cell_type": "markdown",
      "source": [
        "Farklı bir modelle karşılaştırma yapmak amacıyla Gradient Boosted Trees (GBT) Regressor modeli oluşturulmuştur.\n",
        "\n",
        "GBTRegressor, doğrusal olmayan ilişkileri modellemede etkili bir ensemble yöntemidir ve Linear Regression modeline kıyasla daha karmaşık veri setlerinde yüksek doğruluk oranları sunar."
      ],
      "metadata": {
        "id": "c8sfVSzBZBlJ"
      }
    },
    {
      "cell_type": "code",
      "source": [
        "gbt = GBTRegressor(featuresCol=\"features\", labelCol=\"median_house_value\")\n",
        "gbt_model = gbt.fit(train_data)\n",
        "gbt_train_predictions = gbt_model.transform(train_data)\n",
        "gbt_test_predictions = gbt_model.transform(test_data)"
      ],
      "metadata": {
        "id": "_eVCvXOFP-fa"
      },
      "execution_count": null,
      "outputs": []
    },
    {
      "cell_type": "markdown",
      "source": [
        "RegressionEvaluator, modelin tahminleri ile gerçek değerleri karşılaştırarak RMSE ve R² gibi performans metriklerini hesaplar.\n",
        "\n",
        "RMSE, tahmin hatalarının büyüklüğünü ölçerken, R² modelin veriyi ne kadar iyi açıkladığını gösterir.\n",
        "\n",
        "Bu metrikler, modelin doğruluğunu ve başarımını değerlendirmek için kullanılır."
      ],
      "metadata": {
        "id": "eG2oscwcZLeD"
      }
    },
    {
      "cell_type": "code",
      "source": [
        "evaluator_rmse = RegressionEvaluator(labelCol=\"median_house_value\", predictionCol=\"prediction\", metricName=\"rmse\")\n",
        "evaluator_r2 = RegressionEvaluator(labelCol=\"median_house_value\", predictionCol=\"prediction\", metricName=\"r2\")"
      ],
      "metadata": {
        "id": "EundcmjGP9Yf"
      },
      "execution_count": null,
      "outputs": []
    },
    {
      "cell_type": "markdown",
      "source": [
        "Linear Regression için RMSE ve R² metrikleri hesaplanır."
      ],
      "metadata": {
        "id": "nj08aqRmaEn5"
      }
    },
    {
      "cell_type": "code",
      "source": [
        "lr_train_rmse = evaluator_rmse.evaluate(lr_train_predictions)\n",
        "lr_train_r2 = evaluator_r2.evaluate(lr_train_predictions)\n",
        "lr_test_rmse = evaluator_rmse.evaluate(lr_test_predictions)\n",
        "lr_test_r2 = evaluator_r2.evaluate(lr_test_predictions)"
      ],
      "metadata": {
        "id": "O7i_YGQgQERh"
      },
      "execution_count": null,
      "outputs": []
    },
    {
      "cell_type": "markdown",
      "source": [
        "GBTRegressor için RMSE ve R² metrikleri hesaplanır."
      ],
      "metadata": {
        "id": "JWFG3cB8aNGv"
      }
    },
    {
      "cell_type": "code",
      "source": [
        "gbt_train_rmse = evaluator_rmse.evaluate(gbt_train_predictions)\n",
        "gbt_train_r2 = evaluator_r2.evaluate(gbt_train_predictions)\n",
        "gbt_test_rmse = evaluator_rmse.evaluate(gbt_test_predictions)\n",
        "gbt_test_r2 = evaluator_r2.evaluate(gbt_test_predictions)"
      ],
      "metadata": {
        "id": "FyC1BuN_QFjf"
      },
      "execution_count": null,
      "outputs": []
    },
    {
      "cell_type": "markdown",
      "source": [
        "Sonuçlar, Pandas kütüphanesi kullanılarak bir DataFrame'de toplanır ve görüntülenir."
      ],
      "metadata": {
        "id": "FJYXSMaTaX8_"
      }
    },
    {
      "cell_type": "code",
      "source": [
        "results = pd.DataFrame({\n",
        "    \"Model\": [\"Linear Regression\", \"GBTRegressor\"],\n",
        "    \"Eğitim RMSE\": [lr_train_rmse, gbt_train_rmse],\n",
        "    \"Test RMSE\": [lr_test_rmse, gbt_test_rmse],\n",
        "    \"Eğitim R²\": [lr_train_r2, gbt_train_r2],\n",
        "    \"Test R²\": [lr_test_r2, gbt_test_r2]\n",
        "})\n",
        "\n",
        "print(results)"
      ],
      "metadata": {
        "colab": {
          "base_uri": "https://localhost:8080/"
        },
        "id": "psuioX-kQGxr",
        "outputId": "4e926767-f1fc-4501-fb70-61aea4c19054"
      },
      "execution_count": null,
      "outputs": [
        {
          "output_type": "stream",
          "name": "stdout",
          "text": [
            "               Model   Eğitim RMSE     Test RMSE  Eğitim R²   Test R²\n",
            "0  Linear Regression  69538.442131  69685.929056   0.637851  0.632326\n",
            "1       GBTRegressor  54504.843116  58985.825633   0.777511  0.736568\n"
          ]
        }
      ]
    },
    {
      "cell_type": "markdown",
      "source": [
        "Aşağıdaki grafik, GBTRegressor'un Linear Regression'a kıyasla daha düşük test RMSE değerine sahip olduğunu göstermektedir.\n",
        "\n",
        "Bu, GBTRegressor'un test veri setinde daha doğru tahminler yaptığını ortaya koymaktadır."
      ],
      "metadata": {
        "id": "QyP5XA9_gSLq"
      }
    },
    {
      "cell_type": "code",
      "source": [
        "plt.figure(figsize=(10, 6))\n",
        "sns.barplot(x=\"Model\", y=\"Test RMSE\", data=results, palette=\"magma\")\n",
        "plt.title(\"Modellerin Test RMSE Değerleri\")\n",
        "plt.ylabel(\"RMSE\")\n",
        "plt.xlabel(\"Model\")\n",
        "plt.show()"
      ],
      "metadata": {
        "id": "a3YPymFud9jq",
        "colab": {
          "base_uri": "https://localhost:8080/",
          "height": 651
        },
        "outputId": "a01e327d-db42-401d-ab40-aedd58a87593"
      },
      "execution_count": null,
      "outputs": [
        {
          "output_type": "stream",
          "name": "stderr",
          "text": [
            "<ipython-input-27-6fb802b852a8>:2: FutureWarning: \n",
            "\n",
            "Passing `palette` without assigning `hue` is deprecated and will be removed in v0.14.0. Assign the `x` variable to `hue` and set `legend=False` for the same effect.\n",
            "\n",
            "  sns.barplot(x=\"Model\", y=\"Test RMSE\", data=results, palette=\"magma\")\n"
          ]
        },
        {
          "output_type": "display_data",
          "data": {
            "text/plain": [
              "<Figure size 1000x600 with 1 Axes>"
            ],
            "image/png": "[encoded data removed]"
          },
          "metadata": {}
        }
      ]
    },
    {
      "cell_type": "markdown",
      "source": [
        "Aşağıdaki grafik, GBTRegressor'un Linear Regression'a kıyasla daha yüksek test R² değerine sahip olduğunu göstermektedir.\n",
        "\n",
        "Bu, GBTRegressor'un test veri setindeki varyansı daha iyi açıkladığını ve daha başarılı bir model olduğunu ortaya koymaktadır."
      ],
      "metadata": {
        "id": "b5dR4N2Pg7sq"
      }
    },
    {
      "cell_type": "code",
      "source": [
        "plt.figure(figsize=(10, 6))\n",
        "sns.barplot(x=\"Model\", y=\"Test R²\", data=results, palette=\"magma\")\n",
        "plt.title(\"Modellerin Test R² Değerleri\")\n",
        "plt.ylabel(\"R²\")\n",
        "plt.xlabel(\"Model\")\n",
        "plt.ylim(0, 1)\n",
        "plt.show()"
      ],
      "metadata": {
        "id": "c14qNAGhd_5y",
        "colab": {
          "base_uri": "https://localhost:8080/",
          "height": 651
        },
        "outputId": "340f5c48-2149-42fa-fda7-d7c8cf2508a0"
      },
      "execution_count": null,
      "outputs": [
        {
          "output_type": "stream",
          "name": "stderr",
          "text": [
            "<ipython-input-21-43e706feec4a>:2: FutureWarning: \n",
            "\n",
            "Passing `palette` without assigning `hue` is deprecated and will be removed in v0.14.0. Assign the `x` variable to `hue` and set `legend=False` for the same effect.\n",
            "\n",
            "  sns.barplot(x=\"Model\", y=\"Test R²\", data=results, palette=\"magma\")\n"
          ]
        },
        {
          "output_type": "display_data",
          "data": {
            "text/plain": [
              "<Figure size 1000x600 with 1 Axes>"
            ],
            "image/png": "[encoded data removed]"
          },
          "metadata": {}
        }
      ]
    },
    {
      "cell_type": "markdown",
      "source": [
        "Grafik, GBTRegressor'un hem eğitim hem de test veri setlerinde Linear Regression'a kıyasla daha düşük RMSE değerlerine sahip olduğunu göstermektedir.\n",
        "\n",
        "Bu, GBTRegressor'un her iki veri setinde de daha doğru tahminler yaptığını ortaya koymaktadır."
      ],
      "metadata": {
        "id": "8AkBkSI7hW28"
      }
    },
    {
      "cell_type": "code",
      "source": [
        "rmse_df = results.melt(id_vars=[\"Model\"], value_vars=[\"Eğitim RMSE\", \"Test RMSE\"],\n",
        "                       var_name=\"Metric\", value_name=\"RMSE\")\n",
        "\n",
        "plt.figure(figsize=(10, 6))\n",
        "sns.barplot(x=\"Model\", y=\"RMSE\", hue=\"Metric\", data=rmse_df, palette=\"viridis\")\n",
        "plt.title(\"Modellerin Eğitim ve Test RMSE Değerleri\")\n",
        "plt.ylabel(\"RMSE\")\n",
        "plt.xlabel(\"Model\")\n",
        "plt.legend(title=\"Metric\")\n",
        "plt.show()"
      ],
      "metadata": {
        "id": "F0C4wRpneDRM",
        "colab": {
          "base_uri": "https://localhost:8080/",
          "height": 564
        },
        "outputId": "99c59b61-4925-48ae-cb80-e9c2ec4e0d5b"
      },
      "execution_count": null,
      "outputs": [
        {
          "output_type": "display_data",
          "data": {
            "text/plain": [
              "<Figure size 1000x600 with 1 Axes>"
            ],
            "image/png": "[encoded data removed]"
          },
          "metadata": {}
        }
      ]
    },
    {
      "cell_type": "markdown",
      "source": [
        "Grafik, GBTRegressor'un hem eğitim hem de test veri setlerinde Linear Regression'a kıyasla daha yüksek R² değerlerine sahip olduğunu göstermektedir.\n",
        "\n",
        "Bu, GBTRegressor'un her iki veri setindeki varyansı daha iyi açıkladığını ve daha başarılı bir model olduğunu ortaya koymaktadır."
      ],
      "metadata": {
        "id": "KFHRhSe4hffB"
      }
    },
    {
      "cell_type": "code",
      "source": [
        "r2_df = results.melt(id_vars=[\"Model\"], value_vars=[\"Eğitim R²\", \"Test R²\"],\n",
        "                     var_name=\"Metric\", value_name=\"R²\")\n",
        "\n",
        "plt.figure(figsize=(10, 6))\n",
        "sns.barplot(x=\"Model\", y=\"R²\", hue=\"Metric\", data=r2_df, palette=\"viridis\")\n",
        "plt.title(\"Modellerin Eğitim ve Test R² Değerleri\")\n",
        "plt.ylabel(\"R²\")\n",
        "plt.xlabel(\"Model\")\n",
        "plt.ylim(0, 1)\n",
        "plt.legend(title=\"Metric\")\n",
        "plt.show()"
      ],
      "metadata": {
        "id": "kwpCin17eF2k",
        "colab": {
          "base_uri": "https://localhost:8080/",
          "height": 564
        },
        "outputId": "3681aefc-d55d-4b8a-c17e-7259d6a1fa5b"
      },
      "execution_count": null,
      "outputs": [
        {
          "output_type": "display_data",
          "data": {
            "text/plain": [
              "<Figure size 1000x600 with 1 Axes>"
            ],
            "image/png": "[encoded data removed]"
          },
          "metadata": {}
        }
      ]
    },
    {
      "cell_type": "markdown",
      "source": [
        "Grafikler, GBTRegressor modelinin Linear Regression'a kıyasla daha düşük RMSE ve daha yüksek R² değerlerine sahip olduğunu göstermektedir.\n",
        "\n",
        "Bu sonuçlar, GBTRegressor'un veri setindeki karmaşık ilişkileri daha iyi modelleyebildiğini ortaya koymaktadır."
      ],
      "metadata": {
        "id": "qXFd81fyf3Yu"
      }
    },
    {
      "cell_type": "markdown",
      "source": [
        "Son olarak SparkSession kapatılır."
      ],
      "metadata": {
        "id": "fYDH1IVFak77"
      }
    },
    {
      "cell_type": "code",
      "source": [
        "spark.stop()"
      ],
      "metadata": {
        "id": "XBTrJ5-Kajfp"
      },
      "execution_count": null,
      "outputs": []
    }
  ]
}